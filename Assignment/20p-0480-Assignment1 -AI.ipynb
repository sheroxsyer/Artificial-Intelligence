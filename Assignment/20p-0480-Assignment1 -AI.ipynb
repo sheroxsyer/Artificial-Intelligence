{
  "nbformat": 4,
  "nbformat_minor": 0,
  "metadata": {
    "colab": {
      "provenance": []
    },
    "kernelspec": {
      "name": "python3",
      "display_name": "Python 3"
    },
    "language_info": {
      "name": "python"
    }
  },
  "cells": [
    {
      "cell_type": "code",
      "execution_count": null,
      "metadata": {
        "id": "KrBOI0tRIwA8"
      },
      "outputs": [],
      "source": []
    },
    {
      "cell_type": "markdown",
      "source": [
        "ASSIGNMENT AI 1"
      ],
      "metadata": {
        "id": "pBcT3FD8Jowf"
      }
    },
    {
      "cell_type": "code",
      "source": [
        "# PART 1 ENVIRONMENT SETUP"
      ],
      "metadata": {
        "id": "v08nX96qJt_j"
      },
      "execution_count": null,
      "outputs": []
    },
    {
      "cell_type": "code",
      "source": [
        "import random\n",
        "\n",
        "class Environment:\n",
        "    def __init__(self, N, num_static_obstacles=10, num_dynamic_obstacles=5):\n",
        "        self.N = N\n",
        "        self.grid = [['.' for _ in range(N)] for _ in range(N)]\n",
        "# grid setup\n",
        "        self.weights = [[random.randint(1, 10) for _ in range(N)] for _ in range(N)]\n",
        "        self.static_obstacles = []\n",
        "        self.dynamic_obstacles = []\n",
        "        self.agent_positions = {}\n",
        "\n",
        "        self.place_static_obstacles(num_static_obstacles)\n",
        "        self.place_dynamic_obstacles(num_dynamic_obstacles)\n",
        "\n",
        "    def place_static_obstacles(self, num):\n",
        "        \"\"\"Place static obstacles randomly in the grid.\"\"\"\n",
        "        while len(self.static_obstacles) < num:\n",
        "            x, y = random.randint(0, self.N - 1), random.randint(0, self.N - 1)\n",
        "            if self.grid[x][y] == '.':\n",
        "                self.grid[x][y] = 'S'\n",
        "# static obstacle\n",
        "                self.static_obstacles.append((x, y))\n",
        "\n",
        "    def place_dynamic_obstacles(self, num):\n",
        "        \"\"\"Place dynamic obstacles randomly in the grid.\"\"\"\n",
        "        while len(self.dynamic_obstacles) < num:\n",
        "            x, y = random.randint(0, self.N - 1), random.randint(0, self.N - 1)\n",
        "            if self.grid[x][y] == '.':\n",
        "                self.grid[x][y] = 'D'\n",
        "# dynamic obstacle\n",
        "                self.dynamic_obstacles.append({'position': (x, y), 'movement_pattern': self.create_movement_pattern(x, y)})\n",
        "\n",
        "def create_movement_pattern(self, x, y):\n",
        "        \"\"\"Generate a deterministic movement pattern for dynamic obstacles.\"\"\"\n",
        "# Oscillating movement between two fixed points\n",
        "        dx, dy = random.choice([(1, 0), (-1, 0), (0, 1), (0, -1)])\n",
        "# choose a movement direction\n",
        "        return [(x, y), (x + dx, y + dy)]\n",
        "\n",
        "    def move_dynamic_obstacles(self):\n",
        "        \"\"\"Move the dynamic obstacles according to their predefined patterns.\"\"\"\n",
        "        for obstacle in self.dynamic_obstacles:\n",
        "            current_position = obstacle['position']\n",
        "            movement_pattern = obstacle['movement_pattern']\n",
        "# Switch between two points\n",
        "            next_position = movement_pattern[0] if current_position == movement_pattern[1] else movement_pattern[1]\n",
        "            if self.grid[next_position[0]][next_position[1]] == '.':\n",
        "# Ensure the new position is traversable\n",
        "                self.grid[current_position[0]][current_position[1]] = '.'\n",
        "# Free the previous cell\n",
        "                self.grid[next_position[0]][next_position[1]] = 'D'\n",
        "# Mark the new cell as a dynamic obstacle\n",
        "                obstacle['position'] = next_position\n",
        "\n",
        "    def find_valid_position(self):\n",
        "        \"\"\"Find a valid unoccupied position for agents.\"\"\"\n",
        "        while True:\n",
        "            x, y = random.randint(0, self.N - 1), random.randint(0, self.N - 1)\n",
        "            if self.grid[x][y] == '.':\n",
        "# check for  blocked\n",
        "                return (x, y)\n",
        "\n",
        "    def place_agent(self, agent_id, start=None, goal=None):\n",
        "        \"\"\"Assign starting and goal positions for agents.\"\"\"\n",
        "        if start is None:\n",
        "            start = self.find_valid_position()\n",
        "# find valid start if not provided\n",
        "        if goal is None:\n",
        "            goal = self.find_valid_position()\n",
        "# find valid goal if not provided\n",
        "\n",
        "# check start and goal positions are not blocked\n",
        "        if self.grid[start[0]][start[1]] == '.' and self.grid[goal[0]][goal[1]] == '.':\n",
        "            self.agent_positions[agent_id] = {'start': start, 'goal': goal}\n",
        "            self.grid[start[0]][start[1]] = f'A{agent_id}'\n",
        "# Mark the agent's starting position\n",
        "        else:\n",
        "            raise ValueError(\"Start or goal position is blocked by an obstacle.\")\n",
        "\n",
        "    def print_grid(self):\n",
        "        \"\"\"Print the current state of the grid.\"\"\"\n",
        "        for row in self.grid:\n",
        "            print(' '.join(row))\n",
        "\n",
        "# Create the environment\n",
        "N = 10\n",
        "env = Environment(N)\n",
        "\n",
        "# Place agents in the environment\n",
        "try:\n",
        "    env.place_agent(1, (0, 0), (9, 9))\n",
        "# Custom start and goal\n",
        "    env.place_agent(2)\n",
        "#  generate valid start and goal for agent 2\n",
        "except ValueError as e:\n",
        "    print(f\"Error: {e}\")\n",
        "\n",
        "# Print the initial grid\n",
        "print(\"Initial grid setup:\")\n",
        "env.print_grid()\n",
        "\n",
        "for step in range(3):\n",
        "# Simulate 3 time steps\n",
        "    print(f\"\\nTime step {step + 1}:\")\n",
        "    env.move_dynamic_obstacles()\n",
        "# Move dynamic obstacles\n",
        "    env.print_grid()\n",
        "# Print updated grid\n"
      ],
      "metadata": {
        "colab": {
          "base_uri": "https://localhost:8080/"
        },
        "id": "Knm8cXHtJ4DE",
        "outputId": "6f0263ef-994a-4ee4-ca4f-ef6d55655638"
      },
      "execution_count": 2,
      "outputs": [
        {
          "output_type": "stream",
          "name": "stdout",
          "text": [
            "Error: Start or goal position is blocked by an obstacle.\n",
            "Initial grid setup:\n",
            "S . . . . . . . . .\n",
            ". . . . . . . . . .\n",
            ". . D . . . . . S .\n",
            ". . . . . . . . . .\n",
            ". . . . . . . . . .\n",
            ". S . . . . S . D S\n",
            ". S . . . . . . S .\n",
            "D . S . . S . . . .\n",
            ". . S . . . . D . .\n",
            ". . . . . . . . . D\n",
            "\n",
            "Time step 1:\n",
            "S . . . . . . . . .\n",
            ". . . . . . . . . .\n",
            ". D . . . . . . S .\n",
            ". . . . . . . . . .\n",
            ". . . . . . . . . .\n",
            ". S . . . . S . D S\n",
            "D S . . . . . . S .\n",
            ". . S . . S . . . .\n",
            ". . S . . . . . D D\n",
            ". . . . . . . . . .\n",
            "\n",
            "Time step 2:\n",
            "S . . . . . . . . .\n",
            ". . . . . . . . . .\n",
            ". . D . . . . . S .\n",
            ". . . . . . . . . .\n",
            ". . . . . . . . . .\n",
            ". S . . . . S . D S\n",
            ". S . . . . . . S .\n",
            "D . S . . S . . . .\n",
            ". . S . . . . D . .\n",
            ". . . . . . . . . D\n",
            "\n",
            "Time step 3:\n",
            "S . . . . . . . . .\n",
            ". . . . . . . . . .\n",
            ". D . . . . . . S .\n",
            ". . . . . . . . . .\n",
            ". . . . . . . . . .\n",
            ". S . . . . S . D S\n",
            "D S . . . . . . S .\n",
            ". . S . . S . . . .\n",
            ". . S . . . . . D D\n",
            ". . . . . . . . . .\n"
          ]
        }
      ]
    },
    {
      "cell_type": "code",
      "source": [],
      "metadata": {
        "id": "IYni2tJkL4M-"
      },
      "execution_count": null,
      "outputs": []
    },
    {
      "cell_type": "markdown",
      "source": [
        "Part 2: Single-Agent Navigation"
      ],
      "metadata": {
        "id": "r8wMakXqL6e-"
      }
    },
    {
      "cell_type": "code",
      "source": [
        "# DFS\n",
        "def dfs(grid, start, goal):\n",
        "    stack = [(start, [])]\n",
        "# Stack holds the current position and the path taken so far\n",
        "    visited = set()\n",
        "\n",
        "    while stack:\n",
        "        (x, y), path = stack.pop()\n",
        "\n",
        "        if (x, y) == goal:\n",
        "            return path + [(x, y)]\n",
        "\n",
        "        if (x, y) not in visited:\n",
        "            visited.add((x, y))\n",
        "            for dx, dy in [(-1, 0), (1, 0), (0, -1), (0, 1)]:\n",
        "# Up, Down, Left, Right\n",
        "                nx, ny = x + dx, y + dy\n",
        "                if 0 <= nx < len(grid) and 0 <= ny < len(grid[0]) and grid[nx][ny] != 'S' and grid[nx][ny] != 'D':\n",
        "                    stack.append(((nx, ny), path + [(x, y)]))\n",
        "\n",
        "    return None\n"
      ],
      "metadata": {
        "id": "sTUA5DJIMA2h"
      },
      "execution_count": 3,
      "outputs": []
    },
    {
      "cell_type": "markdown",
      "source": [
        "BFS"
      ],
      "metadata": {
        "id": "5c4qTOmXOjKr"
      }
    },
    {
      "cell_type": "code",
      "source": [
        "from collections import deque\n",
        "\n",
        "def bfs(grid, start, goal):\n",
        "    queue = deque([(start, [])])\n",
        "    visited = set()\n",
        "\n",
        "    while queue:\n",
        "        (x, y), path = queue.popleft()\n",
        "\n",
        "        if (x, y) == goal:\n",
        "            return path + [(x, y)]\n",
        "\n",
        "        if (x, y) not in visited:\n",
        "            visited.add((x, y))\n",
        "            for dx, dy in [(-1, 0), (1, 0), (0, -1), (0, 1)]:\n",
        "                nx, ny = x + dx, y + dy\n",
        "                if 0 <= nx < len(grid) and 0 <= ny < len(grid[0]) and grid[nx][ny] != 'S' and grid[nx][ny] != 'D':\n",
        "                    queue.append(((nx, ny), path + [(x, y)]))\n",
        "\n",
        "    return None\n"
      ],
      "metadata": {
        "id": "mPurZfRvOp21"
      },
      "execution_count": 4,
      "outputs": []
    },
    {
      "cell_type": "markdown",
      "source": [
        "UFS"
      ],
      "metadata": {
        "id": "WqJ5Y_2NOtD2"
      }
    },
    {
      "cell_type": "code",
      "source": [
        "import heapq\n",
        "\n",
        "def ufs(grid, weights, start, goal):\n",
        "    pq = [(0, start, [])]\n",
        "# Priority queue (min-heap) stores (cost, current_position, path)\n",
        "    visited = set()\n",
        "\n",
        "    while pq:\n",
        "        cost, (x, y), path = heapq.heappop(pq)\n",
        "\n",
        "        if (x, y) == goal:\n",
        "            return path + [(x, y)], cost\n",
        "\n",
        "        if (x, y) not in visited:\n",
        "            visited.add((x, y))\n",
        "            for dx, dy in [(-1, 0), (1, 0), (0, -1), (0, 1)]:\n",
        "                nx, ny = x + dx, y + dy\n",
        "                if 0 <= nx < len(grid) and 0 <= ny < len(grid[0]) and grid[nx][ny] != 'S' and grid[nx][ny] != 'D':\n",
        "                    heapq.heappush(pq, (cost + weights[nx][ny], (nx, ny), path + [(x, y)]))\n",
        "\n",
        "    return None\n"
      ],
      "metadata": {
        "id": "KMj_OgwkOyPG"
      },
      "execution_count": 5,
      "outputs": []
    },
    {
      "cell_type": "markdown",
      "source": [
        "A* Search Algorithm"
      ],
      "metadata": {
        "id": "-i4XkbhFO4hO"
      }
    },
    {
      "cell_type": "code",
      "source": [
        "def heuristic(a, b):\n",
        "\n",
        "    return abs(a[0] - b[0]) + abs(a[1] - b[1])\n",
        "\n",
        "def a_star(grid, weights, start, goal):\n",
        "    pq = [(0 + heuristic(start, goal), 0, start, [])]\n",
        "    visited = set()\n",
        "\n",
        "    while pq:\n",
        "        f, g, (x, y), path = heapq.heappop(pq)\n",
        "\n",
        "        if (x, y) == goal:\n",
        "            return path + [(x, y)], g\n",
        "\n",
        "        if (x, y) not in visited:\n",
        "            visited.add((x, y))\n",
        "            for dx, dy in [(-1, 0), (1, 0), (0, -1), (0, 1)]:\n",
        "                nx, ny = x + dx, y + dy\n",
        "                if 0 <= nx < len(grid) and 0 <= ny < len(grid[0]) and grid[nx][ny] != 'S' and grid[nx][ny] != 'D':\n",
        "                    h = heuristic((nx, ny), goal)\n",
        "                    heapq.heappush(pq, (g + weights[nx][ny] + h, g + weights[nx][ny], (nx, ny), path + [(x, y)]))\n",
        "\n",
        "    return None\n",
        "# No path found\n"
      ],
      "metadata": {
        "id": "52cjzKaPO5ba"
      },
      "execution_count": 6,
      "outputs": []
    },
    {
      "cell_type": "markdown",
      "source": [
        "Dynamic and Weighted Pathfinding"
      ],
      "metadata": {
        "id": "_M0VkJJqPBAK"
      }
    },
    {
      "cell_type": "code",
      "source": [
        "def replan_path(search_algorithm, grid, weights, start, goal):\n",
        "# Check for changes in the environment\n",
        "    if grid_has_changed(grid):\n",
        "# Some custom condition to detect changes (moving obstacles)\n",
        "        return search_algorithm(grid, weights, start, goal)\n",
        "    return None\n",
        "\n",
        "def grid_has_changed(grid):\n",
        "# This function checks if dynamic obstacles have moved or if any weights have changed.\n",
        "# For simplicity, assume this returns True if any dynamic obstacle has moved.\n",
        "    return True\n",
        "# This is where you'd put actual logic to detect changes\n"
      ],
      "metadata": {
        "id": "sUFZhxkmPB56"
      },
      "execution_count": 7,
      "outputs": []
    },
    {
      "cell_type": "markdown",
      "source": [
        "Comparison and Evaluation"
      ],
      "metadata": {
        "id": "3JSSJe4DPKOb"
      }
    },
    {
      "cell_type": "code",
      "source": [
        "import time\n",
        "\n",
        "def compare_algorithms(grid, weights, start, goal):\n",
        "    algorithms = {\n",
        "        'DFS': dfs,\n",
        "        'BFS': bfs,\n",
        "        'UFS': ufs,\n",
        "        'A*': a_star\n",
        "    }\n",
        "\n",
        "    results = {}\n",
        "    for name, algorithm in algorithms.items():\n",
        "        start_time = time.time()\n",
        "        if name in ['UFS', 'A*']:\n",
        "            path, cost = algorithm(grid, weights, start, goal)\n",
        "        else:\n",
        "            path = algorithm(grid, start, goal)\n",
        "            cost = len(path)\n",
        "# Path length can be used as a simple cost measure\n",
        "        end_time = time.time()\n",
        "\n",
        "        if path:\n",
        "            results[name] = {\n",
        "                'time': end_time - start_time,\n",
        "                'cost': cost,\n",
        "                'path': path,\n",
        "            }\n",
        "        else:\n",
        "            results[name] = {'time': float('inf'), 'cost': float('inf'), 'path': None}\n",
        "\n",
        "    return results\n",
        "\n",
        "# Example usage\n",
        "start = (0, 0)\n",
        "goal = (9, 9)\n",
        "results = compare_algorithms(env.grid, env.weights, start, goal)\n",
        "\n",
        "# Print out the comparison results\n",
        "for algo_name, result in results.items():\n",
        "    print(f\"Algorithm: {algo_name}, Time: {result['time']:.4f} sec, Cost: {result['cost']}, Path Length: {len(result['path']) if result['path'] else 'No Path'}\")\n"
      ],
      "metadata": {
        "colab": {
          "base_uri": "https://localhost:8080/"
        },
        "id": "nrr1qd2yPK5o",
        "outputId": "c92882a9-8331-4de2-bd71-7578228c3f01"
      },
      "execution_count": 8,
      "outputs": [
        {
          "output_type": "stream",
          "name": "stdout",
          "text": [
            "Algorithm: DFS, Time: 0.0006 sec, Cost: 53, Path Length: 53\n",
            "Algorithm: BFS, Time: 0.0003 sec, Cost: 19, Path Length: 19\n",
            "Algorithm: UFS, Time: 0.0004 sec, Cost: 70, Path Length: 19\n",
            "Algorithm: A*, Time: 0.0005 sec, Cost: 70, Path Length: 19\n"
          ]
        }
      ]
    },
    {
      "cell_type": "markdown",
      "source": [
        "Part 3: Multi-Agent Pathfinding"
      ],
      "metadata": {
        "id": "xzp4INOaQTEU"
      }
    },
    {
      "cell_type": "code",
      "source": [],
      "metadata": {
        "id": "Vmew3cXxQXWL"
      },
      "execution_count": null,
      "outputs": []
    },
    {
      "cell_type": "code",
      "source": [
        "#Step 1: Cooperative Agents"
      ],
      "metadata": {
        "id": "zazhR3NYQXhj"
      },
      "execution_count": null,
      "outputs": []
    },
    {
      "cell_type": "code",
      "source": [
        "import heapq\n",
        "\n",
        "class CooperativeAStar:\n",
        "    def __init__(self, grid, weights, agents):\n",
        "        self.grid = grid\n",
        "        self.weights = weights\n",
        "        self.agents = agents\n",
        "# List of (start, goal) tuples for each agent\n",
        "\n",
        "    def heuristic(self, a, b):\n",
        "        return abs(a[0] - b[0]) + abs(a[1] - b[1])\n",
        "# Manhattan distance\n",
        "\n",
        "    def a_star(self, start, goal, other_agents_paths):\n",
        "        pq = [(0 + self.heuristic(start, goal), 0, start, [])]\n",
        "        visited = set()\n",
        "\n",
        "        while pq:\n",
        "            f, g, (x, y), path = heapq.heappop(pq)\n",
        "\n",
        "            if (x, y) == goal:\n",
        "                return path + [(x, y)]\n",
        "\n",
        "            if (x, y) not in visited:\n",
        "                visited.add((x, y))\n",
        "\n",
        "                for dx, dy in [(-1, 0), (1, 0), (0, -1), (0, 1)]:\n",
        "                    nx, ny = x + dx, y + dy\n",
        "\n",
        "# Check if the cell is valid and not an obstacle\n",
        "                    if 0 <= nx < len(self.grid) and 0 <= ny < len(self.grid[0]) and self.grid[nx][ny] != 'S' and self.grid[nx][ny] != 'D':\n",
        "                        if self.conflict_free((nx, ny), g + 1, other_agents_paths):\n",
        "                            heapq.heappush(pq, (g + self.weights[nx][ny] + self.heuristic((nx, ny), goal), g + self.weights[nx][ny], (nx, ny), path + [(x, y)]))\n",
        "\n",
        "        return None\n",
        "# No path found\n",
        "\n",
        "    def conflict_free(self, position, time, other_agents_paths):\n",
        "        for agent_path in other_agents_paths:\n",
        "            if time < len(agent_path) and agent_path[time] == position:\n",
        "                return False\n",
        "        return True\n",
        "\n",
        "    def cooperative_plan(self):\n",
        "        paths = []\n",
        "        for i, (start, goal) in enumerate(self.agents):\n",
        "            other_agents_paths = [paths[j] for j in range(len(paths))]\n",
        "# Paths of agents before this one\n",
        "            path = self.a_star(start, goal, other_agents_paths)\n",
        "            if path:\n",
        "                paths.append(path)\n",
        "            else:\n",
        "                print(f\"Agent {i} could not find a path\")\n",
        "                return None\n",
        "# Return None if any agent cannot find a path\n",
        "        return paths\n"
      ],
      "metadata": {
        "id": "4cs_kuNeQdVh"
      },
      "execution_count": 9,
      "outputs": []
    },
    {
      "cell_type": "markdown",
      "source": [
        "Step 2: Competitive Agents"
      ],
      "metadata": {
        "id": "K698-ABjQkwt"
      }
    },
    {
      "cell_type": "code",
      "source": [
        "class CompetitiveAStar(CooperativeAStar):\n",
        "    def competitive_plan(self):\n",
        "        paths = []\n",
        "        priorities = list(range(len(self.agents)))\n",
        "# Prioritize agents by their order\n",
        "        for i in priorities:\n",
        "            start, goal = self.agents[i]\n",
        "            other_agents_paths = [paths[j] for j in range(len(paths))]\n",
        "# Previous agents' paths\n",
        "            path = self.a_star(start, goal, other_agents_paths)\n",
        "            if path:\n",
        "                paths.append(path)\n",
        "            else:\n",
        "                print(f\"Agent {i} could not find a path\")\n",
        "                return None\n",
        "# If any agent can't find a path, return None\n",
        "        return paths\n"
      ],
      "metadata": {
        "id": "lvIbe7t_QpQd"
      },
      "execution_count": 10,
      "outputs": []
    },
    {
      "cell_type": "markdown",
      "source": [
        "Conflict Resolution Example:"
      ],
      "metadata": {
        "id": "q_jWCwTSQz6G"
      }
    },
    {
      "cell_type": "code",
      "source": [
        "def resolve_conflicts(agent_paths):\n",
        "# Resolve conflicts when agents want to move into the same space\n",
        "    resolved_paths = []\n",
        "    for t in range(max(len(path) for path in agent_paths)):\n",
        "        positions_at_t = [path[t] if t < len(path) else path[-1] for path in agent_paths]\n",
        "# Agents' positions at time t\n",
        "        if len(set(positions_at_t)) != len(positions_at_t):\n",
        "            for i in range(len(agent_paths)):\n",
        "                if positions_at_t.count(positions_at_t[i]) > 1:\n",
        "                    print(f\"Conflict detected at time {t} for agent {i}, replanning...\")\n",
        "        resolved_paths.append(positions_at_t)\n",
        "    return resolved_paths\n"
      ],
      "metadata": {
        "id": "CZwiOIEPQ0q5"
      },
      "execution_count": 11,
      "outputs": []
    },
    {
      "cell_type": "markdown",
      "source": [
        "Step 3: Multi-Agent Planning Algorithms"
      ],
      "metadata": {
        "id": "sQwh8_RXQ49s"
      }
    },
    {
      "cell_type": "code",
      "source": [
        "class Environment:\n",
        "    def __init__(self, N, weights, obstacles):\n",
        "        self.N = N\n",
        "        self.grid = [['.' for _ in range(N)] for _ in range(N)]\n",
        "        self.weights = weights\n",
        "        self.static_obstacles = obstacles\n",
        "        self.dynamic_obstacles = []\n",
        "        self.agents = {}\n",
        "\n",
        "# Place static obstacles\n",
        "        self.place_static_obstacles()\n",
        "\n",
        "    def place_static_obstacles(self):\n",
        "        \"\"\"Place predefined static obstacles in the grid.\"\"\"\n",
        "        for x, y in self.static_obstacles:\n",
        "            if self.grid[x][y] == '.':\n",
        "                self.grid[x][y] = 'X'\n",
        "# Mark as obstacle\n"
      ],
      "metadata": {
        "id": "hRQkb3BaQ-7r"
      },
      "execution_count": 14,
      "outputs": []
    },
    {
      "cell_type": "code",
      "source": [
        "# Define grid size and other required parameters\n",
        "grid_size = 10\n",
        "# Example grid size 10x10\n",
        "weights = [[1 for _ in range(grid_size)] for _ in range(grid_size)]\n",
        "# Set all weights to 1\n",
        "obstacles = [(2, 3), (4, 5), (7, 8)]\n",
        "\n",
        "agents = [((0, 0), (9, 9)), ((1, 1), (8, 8)), ((2, 2), (7, 7))]\n",
        "# Example agent start and goal positions\n",
        "\n",
        "# Initialize the environment and agents\n",
        "env = Environment(grid_size, weights, obstacles)\n",
        "cooperative_agents = CooperativeAStar(env.grid, env.weights, agents)\n",
        "competitive_agents = CompetitiveAStar(env.grid, env.weights, agents)\n",
        "\n",
        "# Run the evaluation function\n",
        "evaluate_multi_agent_systems(env, cooperative_agents, competitive_agents)\n"
      ],
      "metadata": {
        "colab": {
          "base_uri": "https://localhost:8080/"
        },
        "id": "8oOJHW5FR3lY",
        "outputId": "d932ac39-1b54-41be-efbf-38ad509226e7"
      },
      "execution_count": 15,
      "outputs": [
        {
          "output_type": "stream",
          "name": "stdout",
          "text": [
            "Evaluating Cooperative Agents...\n",
            "Cooperative agents successfully planned paths!\n",
            "\n",
            "Evaluating Competitive Agents...\n",
            "Competitive agents successfully planned paths!\n",
            "Cooperative agents time: 0.0077 seconds\n",
            "Competitive agents time: 0.0064 seconds\n"
          ]
        }
      ]
    },
    {
      "cell_type": "markdown",
      "source": [
        "Part 4: Advanced Requirements (Optional)"
      ],
      "metadata": {
        "id": "gILvfH7RR9tc"
      }
    },
    {
      "cell_type": "code",
      "source": [
        "#1. Time-Dependent Heuristics"
      ],
      "metadata": {
        "id": "lihA6b3vSTOO"
      },
      "execution_count": null,
      "outputs": []
    },
    {
      "cell_type": "code",
      "source": [
        "# f(n) = g(n) + h(n)\n",
        "# Where g(n) is the cost to reach node n, and h(n) is the heuristic estimation\n",
        "\n",
        "# Time-dependent version of the heuristic\n",
        "def time_dependent_heuristic(node, goal, current_time):\n",
        "    distance = abs(goal[0] - node[0]) + abs(goal[1] - node[1])\n",
        "\n",
        "# Adjust based on time\n",
        "    if current_time % 10 == 0:\n",
        "# Every 10 time steps, for example\n",
        "        return distance * 1.5\n",
        "# Increase the heuristic value to simulate increased difficulty\n",
        "    else:\n",
        "        return distance\n",
        "# Normal heuristic\n"
      ],
      "metadata": {
        "id": "hbG8BzIOSYZb"
      },
      "execution_count": 16,
      "outputs": []
    },
    {
      "cell_type": "markdown",
      "source": [
        "2. Hierarchical Search"
      ],
      "metadata": {
        "id": "2ezzEFUJSdWW"
      }
    },
    {
      "cell_type": "code",
      "source": [
        "class HierarchicalSearch:\n",
        "    def __init__(self, grid, sub_grid_size):\n",
        "        self.grid = grid\n",
        "        self.sub_grid_size = sub_grid_size\n",
        "        self.num_regions = len(grid) // sub_grid_size\n",
        "\n",
        "    def high_level_plan(self, start, goal):\n",
        "        \"\"\"Plan the route at a high-level across regions.\"\"\"\n",
        "        start_region = self.get_region(start)\n",
        "        goal_region = self.get_region(goal)\n",
        "# Use A* or BFS for high-level region-to-region search\n",
        "        return self.a_star_region_search(start_region, goal_region)\n",
        "\n",
        "    def get_region(self, position):\n",
        "        \"\"\"Return the region (sub-grid) for a given position.\"\"\"\n",
        "        return (position[0] // self.sub_grid_size, position[1] // self.sub_grid_size)\n",
        "\n",
        "    def a_star_region_search(self, start_region, goal_region):\n",
        "        \"\"\"Perform region-level A* search between regions.\"\"\"\n",
        "# Implement A* to find the optimal path between regions\n",
        "        pass\n",
        "\n",
        "    def refine_path(self, high_level_path):\n",
        "        \"\"\"Refine the path within each region.\"\"\"\n",
        "        detailed_path = []\n",
        "        for region in high_level_path:\n",
        "# Perform fine-grained search within the region\n",
        "            detailed_path += self.a_star_within_region(region)\n",
        "        return detailed_path\n",
        "\n",
        "    def a_star_within_region(self, region):\n",
        "        \"\"\"Perform A* search within a sub-grid region.\"\"\"\n",
        "# Use A* to navigate within the sub-grid\n",
        "        pass\n"
      ],
      "metadata": {
        "id": "q_g0Fs-sShMl"
      },
      "execution_count": 17,
      "outputs": []
    },
    {
      "cell_type": "markdown",
      "source": [
        "3. Meta-Agent Coordination"
      ],
      "metadata": {
        "id": "JFpOLnyOSmEn"
      }
    },
    {
      "cell_type": "code",
      "source": [
        "class MetaAgent:\n",
        "    def __init__(self, agents, environment):\n",
        "        self.agents = agents\n",
        "        self.environment = environment\n",
        "        self.agent_paths = {}\n",
        "# Store planned paths for all agents\n",
        "\n",
        "    def coordinate_agents(self):\n",
        "        \"\"\"Coordinate the movements of all agents.\"\"\"\n",
        "        for agent in self.agents:\n",
        "            planned_path = self.plan_path(agent)\n",
        "            self.agent_paths[agent] = planned_path\n",
        "\n",
        "    def plan_path(self, agent):\n",
        "        \"\"\"Plan an optimal path for the agent.\"\"\"\n",
        "# Use A* or BFS to plan the path, considering other agents\n",
        "        start, goal = agent.start, agent.goal\n",
        "        return self.a_star_with_agent_avoidance(agent, start, goal)\n",
        "\n",
        "    def a_star_with_agent_avoidance(self, agent, start, goal):\n",
        "        \"\"\"Implement A* considering other agents' paths to avoid collisions.\"\"\"\n",
        "# Implement A*\n",
        "        pass\n",
        "\n",
        "    def resolve_conflicts(self):\n",
        "        \"\"\"Resolve any conflicts between agents' paths.\"\"\"\n",
        "        for agent, path in self.agent_paths.items():\n",
        "            for step in path:\n",
        "# Check if any other agent is occupying the same position at the same time\n",
        "                self.avoid_conflict(agent, step)\n",
        "\n",
        "    def avoid_conflict(self, agent, step):\n",
        "        \"\"\"Recalculate paths if a conflict is detected.\"\"\"\n",
        "# Implement conflict avoidance\n",
        "        pass\n"
      ],
      "metadata": {
        "id": "Nls_1njzSph_"
      },
      "execution_count": 18,
      "outputs": []
    }
  ]
}