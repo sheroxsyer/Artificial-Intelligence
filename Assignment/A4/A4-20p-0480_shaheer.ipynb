{
  "nbformat": 4,
  "nbformat_minor": 0,
  "metadata": {
    "colab": {
      "provenance": []
    },
    "kernelspec": {
      "name": "python3",
      "display_name": "Python 3"
    },
    "language_info": {
      "name": "python"
    }
  },
  "cells": [
    {
      "cell_type": "code",
      "execution_count": 1,
      "metadata": {
        "colab": {
          "base_uri": "https://localhost:8080/"
        },
        "id": "5cHmXO6KrxVh",
        "outputId": "12a3937a-ced8-4b3a-acd1-59d289f1f0df"
      },
      "outputs": [
        {
          "output_type": "stream",
          "name": "stdout",
          "text": [
            "Text File: file 1.txt\n",
            "Number of sentences: 7\n",
            "Number of words: 22\n",
            "Number of characters: 92\n",
            "Readability index: 0\n",
            "\n",
            "\n",
            "Text File: File 2.txt\n",
            "Number of sentences: 8\n",
            "Number of words: 46\n",
            "Number of characters: 197\n",
            "Readability index: 2\n",
            "\n",
            "\n",
            "Text File: File 3.txt\n",
            "Number of sentences: 8\n",
            "Number of words: 141\n",
            "Number of characters: 572\n",
            "Readability index: 6\n",
            "\n",
            "\n"
          ]
        }
      ],
      "source": [
        "\n",
        "\n",
        "import re\n",
        "import os\n",
        "\n",
        "# Function to count the number of sentences\n",
        "def count_sentences(text):\n",
        "    # Regex pattern to match sentence-ending punctuation\n",
        "    sentence_endings = re.compile(r'[.!?;:]')\n",
        "    sentences = sentence_endings.split(text)\n",
        "    # Count sentences and ensure at least one if the text is not empty\n",
        "    return len([s for s in sentences if s.strip()]) or 1\n",
        "\n",
        "# Function to count the number of words\n",
        "def count_words(text):\n",
        "    # Regex pattern to match words (alphanumeric sequences)\n",
        "    words = re.findall(r'\\b\\w+\\b', text)\n",
        "    return len(words)\n",
        "\n",
        "# Function to count the number of characters\n",
        "def count_characters(text):\n",
        "    # Count only alphanumeric characters (ignoring punctuation and spaces)\n",
        "    return len(re.findall(r'[a-zA-Z0-9]', text))\n",
        "\n",
        "# Function to calculate the Automated Readability Index (ARI)\n",
        "def calculate_ari(num_sentences, num_words, num_characters):\n",
        "    # Apply the ARI formula\n",
        "    return round(4.71 * (num_characters / num_words) + 0.5 * (num_words / num_sentences) - 21.43)\n",
        "\n",
        "# Function to process a text file and compute ARI\n",
        "def process_text_file(file_path):\n",
        "    with open(file_path, 'r', encoding='utf-8') as file:\n",
        "        text = file.read()\n",
        "\n",
        "    num_sentences = count_sentences(text)\n",
        "    num_words = count_words(text)\n",
        "    num_characters = count_characters(text)\n",
        "    ari = calculate_ari(num_sentences, num_words, num_characters)\n",
        "\n",
        "    print(f\"Text File: {os.path.basename(file_path)}\")\n",
        "    print(f\"Number of sentences: {num_sentences}\")\n",
        "    print(f\"Number of words: {num_words}\")\n",
        "    print(f\"Number of characters: {num_characters}\")\n",
        "    print(f\"Readability index: {ari}\")\n",
        "    print(\"\\n\")\n",
        "\n",
        "# File paths for the three text files\n",
        "file_paths = [\n",
        "    '/content/drive/MyDrive/AI Assignments/file 1.txt',\n",
        "    '/content/drive/MyDrive/AI Assignments/File 2.txt',\n",
        "    '/content/drive/MyDrive/AI Assignments/File 3.txt'\n",
        "]\n",
        "\n",
        "# Process each file and print the results\n",
        "for file_path in file_paths:\n",
        "    process_text_file(file_path)\n"
      ]
    },
    {
      "cell_type": "markdown",
      "source": [],
      "metadata": {
        "id": "ZYi7exMHtprH"
      }
    }
  ]
}