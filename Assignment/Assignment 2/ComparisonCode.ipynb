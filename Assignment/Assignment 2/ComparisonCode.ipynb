{
  "nbformat": 4,
  "nbformat_minor": 0,
  "metadata": {
    "colab": {
      "provenance": []
    },
    "kernelspec": {
      "name": "python3",
      "display_name": "Python 3"
    },
    "language_info": {
      "name": "python"
    }
  },
  "cells": [
    {
      "cell_type": "code",
      "execution_count": 5,
      "metadata": {
        "colab": {
          "base_uri": "https://localhost:8080/"
        },
        "id": "BSIp15lgfMYI",
        "outputId": "99451919-ada7-489d-b336-c224f3c98b74"
      },
      "outputs": [
        {
          "output_type": "stream",
          "name": "stdout",
          "text": [
            "Nodes explored by Minimax: 549946\n",
            "Nodes explored by Alpha-Beta Pruning: 18297\n"
          ]
        }
      ],
      "source": [
        "import math\n",
        "\n",
        "# Variables to count nodes explored\n",
        "nodes_explored_minimax = 0\n",
        "nodes_explored_alpha_beta = 0\n",
        "\n",
        "# Basic Minimax Function\n",
        "def minimax(board, depth, maximizing):\n",
        "    global nodes_explored_minimax\n",
        "    nodes_explored_minimax += 1\n",
        "    # Count each node visited\n",
        "\n",
        "    # Terminal conditions\n",
        "    if check_winner(board, 'Osaid'):\n",
        "        return 1\n",
        "    elif check_winner(board, 'Abubakar'):\n",
        "        return -1\n",
        "    elif board_full(board):\n",
        "        return 0\n",
        "\n",
        "    # Maximizing player\n",
        "    if maximizing:\n",
        "        max_eval = -math.inf\n",
        "        for i in range(9):\n",
        "            if board[i] == ' ':\n",
        "                board[i] = 'Osaid'\n",
        "                eval = minimax(board, depth + 1, False)\n",
        "                board[i] = ' '\n",
        "                max_eval = max(max_eval, eval)\n",
        "        return max_eval\n",
        "    # Minimizing player\n",
        "    else:\n",
        "        min_eval = math.inf\n",
        "        for i in range(9):\n",
        "            if board[i] == ' ':\n",
        "                board[i] = 'Abubakar'\n",
        "                eval = minimax(board, depth + 1, True)\n",
        "                board[i] = ' '\n",
        "                min_eval = min(min_eval, eval)\n",
        "        return min_eval\n",
        "\n",
        "# Minimax with Alpha-Beta Pruning\n",
        "def minimax_alpha_beta(board, depth, alpha, beta, maximizing):\n",
        "    global nodes_explored_alpha_beta\n",
        "    nodes_explored_alpha_beta += 1  # Count each node visited\n",
        "\n",
        "    # Terminal conditions\n",
        "    if check_winner(board, 'Osaid'):\n",
        "        return 1\n",
        "    elif check_winner(board, 'Abubakar'):\n",
        "        return -1\n",
        "    elif board_full(board):\n",
        "        return 0\n",
        "\n",
        "    # Maximizing player\n",
        "    if maximizing:\n",
        "        max_eval = -math.inf\n",
        "        for i in range(9):\n",
        "            if board[i] == ' ':\n",
        "                board[i] = 'Osaid'\n",
        "                eval = minimax_alpha_beta(board, depth + 1, alpha, beta, False)\n",
        "                board[i] = ' '\n",
        "                max_eval = max(max_eval, eval)\n",
        "                alpha = max(alpha, eval)\n",
        "                if beta <= alpha:\n",
        "                    break  # Prune the branch\n",
        "        return max_eval\n",
        "    # Minimizing player\n",
        "    else:\n",
        "        min_eval = math.inf\n",
        "        for i in range(9):\n",
        "            if board[i] == ' ':\n",
        "                board[i] = 'Abubakar'\n",
        "                eval = minimax_alpha_beta(board, depth + 1, alpha, beta, True)\n",
        "                board[i] = ' '\n",
        "                min_eval = min(min_eval, eval)\n",
        "                beta = min(beta, eval)\n",
        "                if beta <= alpha:\n",
        "                    break  # Prune the branch\n",
        "        return min_eval\n",
        "\n",
        "# Example Test Run\n",
        "# Initialize board to an empty Tic-Tac-Toe board\n",
        "board = [' ' for _ in range(9)]\n",
        "\n",
        "# Reset node counters\n",
        "nodes_explored_minimax = 0\n",
        "nodes_explored_alpha_beta = 0\n",
        "\n",
        "# Run Minimax without Alpha-Beta Pruning\n",
        "minimax(board, 0, True)\n",
        "print(\"Nodes explored by Minimax:\", nodes_explored_minimax)\n",
        "\n",
        "# Run Minimax with Alpha-Beta Pruning\n",
        "minimax_alpha_beta(board, 0, -math.inf, math.inf, True)\n",
        "print(\"Nodes explored by Alpha-Beta Pruning:\", nodes_explored_alpha_beta)\n"
      ]
    }
  ]
}