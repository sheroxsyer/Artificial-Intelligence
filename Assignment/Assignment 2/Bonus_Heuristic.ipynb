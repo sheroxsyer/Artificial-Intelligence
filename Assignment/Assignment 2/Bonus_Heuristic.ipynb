{
  "nbformat": 4,
  "nbformat_minor": 0,
  "metadata": {
    "colab": {
      "provenance": []
    },
    "kernelspec": {
      "name": "python3",
      "display_name": "Python 3"
    },
    "language_info": {
      "name": "python"
    }
  },
  "cells": [
    {
      "cell_type": "code",
      "execution_count": 9,
      "metadata": {
        "id": "BSIp15lgfMYI"
      },
      "outputs": [],
      "source": [
        "def heuristic_evaluation(board):\n",
        "\n",
        "    win_patterns = [\n",
        "        (0, 1, 2), (3, 4, 5), (6, 7, 8),\n",
        "        (0, 3, 6), (1, 4, 7), (2, 5, 8),\n",
        "        (0, 4, 8), (2, 4, 6)\n",
        "    ]\n",
        "\n",
        "    score = 0\n",
        "\n",
        "    # Check for each winning pattern and calculate score\n",
        "    for pattern in win_patterns:\n",
        "\n",
        "        line = [board[i] for i in pattern]\n",
        "\n",
        "        # Evaluate the line for AI ('Osaid') and opponent ('Abubakar')\n",
        "        if line.count('Osaid') == 2 and line.count(' ') == 1:\n",
        "            score += 10\n",
        "        elif line.count('Abubakar') == 2 and line.count(' ') == 1:\n",
        "            score -= 10\n",
        "\n",
        "        # If the line has a mix of 'Osaid' and 'Abubakar', it's not immediately useful\n",
        "        if line.count('Osaid') == 1 and line.count('Abubakar') == 1:\n",
        "            score += 0\n",
        "\n",
        "    # Favor center control (the center is at index 4)\n",
        "    if board[4] == 'Osaid':\n",
        "        score += 5\n",
        "    elif board[4] == 'Abubakar':\n",
        "        score -= 5\n",
        "\n",
        "    # Return the heuristic score for the board\n",
        "    return score\n"
      ]
    },
    {
      "cell_type": "markdown",
      "source": [
        "Modified Minimax Algorithm Using Heuristic Evaluation"
      ],
      "metadata": {
        "id": "s9RTcGcHuzo-"
      }
    },
    {
      "cell_type": "code",
      "source": [
        "def minimax_with_heuristic(board, depth, maximizing):\n",
        "    if check_winner(board, 'Osaid'):\n",
        "        return 1\n",
        "        # AI wins\n",
        "    elif check_winner(board, 'Abubakar'):\n",
        "        return -1\n",
        "        # Opponent wins\n",
        "    elif board_full(board):\n",
        "        return 0\n",
        "        # Draw\n",
        "\n",
        "    # Use heuristic evaluation for non-terminal states\n",
        "    if depth > 0:\n",
        "      # For non-terminal nodes, evaluate the board using the heuristic\n",
        "        return heuristic_evaluation(board)\n",
        "\n",
        "    if maximizing:\n",
        "        max_eval = -math.inf\n",
        "        for i in range(9):\n",
        "            if board[i] == ' ':\n",
        "                board[i] = 'Osaid'\n",
        "                eval = minimax_with_heuristic(board, depth + 1, False)\n",
        "                board[i] = ' '\n",
        "                max_eval = max(max_eval, eval)\n",
        "        return max_eval\n",
        "    else:\n",
        "        min_eval = math.inf\n",
        "        for i in range(9):\n",
        "            if board[i] == ' ':\n",
        "                board[i] = 'Abubakar'\n",
        "                eval = minimax_with_heuristic(board, depth + 1, True)\n",
        "                board[i] = ' '\n",
        "                min_eval = min(min_eval, eval)\n",
        "        return min_eval\n"
      ],
      "metadata": {
        "id": "12nO0E1EuccX"
      },
      "execution_count": 10,
      "outputs": []
    },
    {
      "cell_type": "markdown",
      "source": [
        "Modified Alpha-Beta Pruning Algorithm Using Heuristic Evaluation"
      ],
      "metadata": {
        "id": "_CtG0Kyz0N2S"
      }
    },
    {
      "cell_type": "code",
      "source": [
        "def minimax_alpha_beta_with_heuristic(board, depth, alpha, beta, maximizing):\n",
        "    if check_winner(board, 'Osaid'):\n",
        "        return 1\n",
        "    elif check_winner(board, 'Abubakar'):\n",
        "        return -1\n",
        "    elif board_full(board):\n",
        "        return 0\n",
        "\n",
        "    # Use heuristic evaluation for non-terminal states\n",
        "    if depth > 0:\n",
        "        return heuristic_evaluation(board)\n",
        "\n",
        "    if maximizing:\n",
        "        max_eval = -math.inf\n",
        "        for i in range(9):\n",
        "            if board[i] == ' ':\n",
        "                board[i] = 'Osaid'\n",
        "                eval = minimax_alpha_beta_with_heuristic(board, depth + 1, alpha, beta, False)\n",
        "                board[i] = ' '\n",
        "                max_eval = max(max_eval, eval)\n",
        "                alpha = max(alpha, eval)\n",
        "                if beta <= alpha:\n",
        "                    break\n",
        "        return max_eval\n",
        "    else:\n",
        "        min_eval = math.inf\n",
        "        for i in range(9):\n",
        "            if board[i] == ' ':\n",
        "                board[i] = 'Abubakar'\n",
        "                eval = minimax_alpha_beta_with_heuristic(board, depth + 1, alpha, beta, True)\n",
        "                board[i] = ' '\n",
        "                min_eval = min(min_eval, eval)\n",
        "                beta = min(beta, eval)\n",
        "                if beta <= alpha:\n",
        "                    break\n",
        "        return min_eval\n"
      ],
      "metadata": {
        "id": "P5T0gth6vEeJ"
      },
      "execution_count": 11,
      "outputs": []
    }
  ]
}